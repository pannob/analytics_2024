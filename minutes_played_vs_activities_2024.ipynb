{
 "cells": [
  {
   "cell_type": "markdown",
   "id": "4c7ca504",
   "metadata": {},
   "source": [
    "# Data Exploration of in game activities for a mobile MMO \n",
    "\n",
    "This is a pseudo dataset with some real data and some random data points. Primarirly for my own exploration as to the sorts of questions I could ask game designers when conducting a regression analysis.\n",
    "\n",
    "The goal of this work is to determine the relationship between various in game activities and a players minutes played (recorded on a daily basis). i.e. farming = 1 means engaged on the day. \n",
    "\n",
    "The data includes 500 rows of data from DSI 30+ players and their engagement with activities on a single gameplay day. \n",
    "\n",
    "There are many factors outside the scope of this work which would influence this number, e.g. are there live events running on a given day?, I just thought this was an interesting starting point\n",
    "\n",
    "I've chosen a linear regression model as my dataset is reasonably small, the outcomes of the model are easy to visualise and hence simpler to communicate when driving action points and finally the data I'm using generally follows a linear pattern.\n"
   ]
  },
  {
   "cell_type": "code",
   "execution_count": 155,
   "id": "4c816029",
   "metadata": {},
   "outputs": [],
   "source": [
    "# importing libraries\n",
    "\n",
    "import numpy as np\n",
    "import matplotlib.pyplot as plt \n",
    "import pandas as pd \n",
    "import seaborn as sns\n",
    "%matplotlib inline\n",
    "\n",
    "from sklearn.preprocessing import LabelEncoder, OneHotEncoder\n",
    "from sklearn.linear_model import LinearRegression\n",
    "from sklearn.model_selection import train_test_split\n",
    "from sklearn.metrics import r2_score, mean_absolute_error, mean_squared_error"
   ]
  },
  {
   "cell_type": "code",
   "execution_count": 114,
   "id": "6a7245f5",
   "metadata": {},
   "outputs": [
    {
     "data": {
      "text/html": [
       "<div>\n",
       "<style scoped>\n",
       "    .dataframe tbody tr th:only-of-type {\n",
       "        vertical-align: middle;\n",
       "    }\n",
       "\n",
       "    .dataframe tbody tr th {\n",
       "        vertical-align: top;\n",
       "    }\n",
       "\n",
       "    .dataframe thead th {\n",
       "        text-align: right;\n",
       "    }\n",
       "</style>\n",
       "<table border=\"1\" class=\"dataframe\">\n",
       "  <thead>\n",
       "    <tr style=\"text-align: right;\">\n",
       "      <th></th>\n",
       "      <th>country_group</th>\n",
       "      <th>operating_system</th>\n",
       "      <th>campaign</th>\n",
       "      <th>buying</th>\n",
       "      <th>crafting</th>\n",
       "      <th>woodchopping</th>\n",
       "      <th>fishing</th>\n",
       "      <th>farming</th>\n",
       "      <th>customisation</th>\n",
       "      <th>minutes_played</th>\n",
       "    </tr>\n",
       "  </thead>\n",
       "  <tbody>\n",
       "    <tr>\n",
       "      <th>0</th>\n",
       "      <td>us/gb/au/ca</td>\n",
       "      <td>ios</td>\n",
       "      <td>paid</td>\n",
       "      <td>0</td>\n",
       "      <td>0</td>\n",
       "      <td>0</td>\n",
       "      <td>1</td>\n",
       "      <td>1</td>\n",
       "      <td>1</td>\n",
       "      <td>120</td>\n",
       "    </tr>\n",
       "    <tr>\n",
       "      <th>1</th>\n",
       "      <td>us/gb/au/ca</td>\n",
       "      <td>ios</td>\n",
       "      <td>paid</td>\n",
       "      <td>0</td>\n",
       "      <td>0</td>\n",
       "      <td>0</td>\n",
       "      <td>0</td>\n",
       "      <td>1</td>\n",
       "      <td>1</td>\n",
       "      <td>120</td>\n",
       "    </tr>\n",
       "    <tr>\n",
       "      <th>2</th>\n",
       "      <td>us/gb/au/ca</td>\n",
       "      <td>ios</td>\n",
       "      <td>free</td>\n",
       "      <td>0</td>\n",
       "      <td>0</td>\n",
       "      <td>0</td>\n",
       "      <td>0</td>\n",
       "      <td>0</td>\n",
       "      <td>1</td>\n",
       "      <td>120</td>\n",
       "    </tr>\n",
       "    <tr>\n",
       "      <th>3</th>\n",
       "      <td>us/gb/au/ca</td>\n",
       "      <td>ios</td>\n",
       "      <td>free</td>\n",
       "      <td>0</td>\n",
       "      <td>0</td>\n",
       "      <td>0</td>\n",
       "      <td>0</td>\n",
       "      <td>0</td>\n",
       "      <td>1</td>\n",
       "      <td>120</td>\n",
       "    </tr>\n",
       "    <tr>\n",
       "      <th>4</th>\n",
       "      <td>us/gb/au/ca</td>\n",
       "      <td>ios</td>\n",
       "      <td>free</td>\n",
       "      <td>0</td>\n",
       "      <td>0</td>\n",
       "      <td>0</td>\n",
       "      <td>1</td>\n",
       "      <td>0</td>\n",
       "      <td>1</td>\n",
       "      <td>120</td>\n",
       "    </tr>\n",
       "  </tbody>\n",
       "</table>\n",
       "</div>"
      ],
      "text/plain": [
       "  country_group operating_system campaign  buying  crafting  woodchopping  \\\n",
       "0   us/gb/au/ca              ios     paid       0         0             0   \n",
       "1   us/gb/au/ca              ios     paid       0         0             0   \n",
       "2   us/gb/au/ca              ios     free       0         0             0   \n",
       "3   us/gb/au/ca              ios     free       0         0             0   \n",
       "4   us/gb/au/ca              ios     free       0         0             0   \n",
       "\n",
       "   fishing  farming  customisation  minutes_played  \n",
       "0        1        1              1             120  \n",
       "1        0        1              1             120  \n",
       "2        0        0              1             120  \n",
       "3        0        0              1             120  \n",
       "4        1        0              1             120  "
      ]
     },
     "execution_count": 114,
     "metadata": {},
     "output_type": "execute_result"
    }
   ],
   "source": [
    "# importing my dataset\n",
    "\n",
    "activities = pd.read_csv('C:/Users/Anno/Downloads/activities_python_0824 - fake_sheet.csv')\n",
    "\n",
    "activities.head()"
   ]
  },
  {
   "cell_type": "code",
   "execution_count": 116,
   "id": "733098c4",
   "metadata": {},
   "outputs": [
    {
     "data": {
      "text/html": [
       "<div>\n",
       "<style scoped>\n",
       "    .dataframe tbody tr th:only-of-type {\n",
       "        vertical-align: middle;\n",
       "    }\n",
       "\n",
       "    .dataframe tbody tr th {\n",
       "        vertical-align: top;\n",
       "    }\n",
       "\n",
       "    .dataframe thead th {\n",
       "        text-align: right;\n",
       "    }\n",
       "</style>\n",
       "<table border=\"1\" class=\"dataframe\">\n",
       "  <thead>\n",
       "    <tr style=\"text-align: right;\">\n",
       "      <th></th>\n",
       "      <th>country_group</th>\n",
       "      <th>operating_system</th>\n",
       "      <th>campaign</th>\n",
       "      <th>buying</th>\n",
       "      <th>crafting</th>\n",
       "      <th>woodchopping</th>\n",
       "      <th>fishing</th>\n",
       "      <th>farming</th>\n",
       "      <th>customisation</th>\n",
       "      <th>minutes_played</th>\n",
       "    </tr>\n",
       "  </thead>\n",
       "  <tbody>\n",
       "    <tr>\n",
       "      <th>0</th>\n",
       "      <td>0</td>\n",
       "      <td>1</td>\n",
       "      <td>1</td>\n",
       "      <td>0</td>\n",
       "      <td>0</td>\n",
       "      <td>0</td>\n",
       "      <td>1</td>\n",
       "      <td>1</td>\n",
       "      <td>1</td>\n",
       "      <td>120</td>\n",
       "    </tr>\n",
       "    <tr>\n",
       "      <th>1</th>\n",
       "      <td>0</td>\n",
       "      <td>1</td>\n",
       "      <td>1</td>\n",
       "      <td>0</td>\n",
       "      <td>0</td>\n",
       "      <td>0</td>\n",
       "      <td>0</td>\n",
       "      <td>1</td>\n",
       "      <td>1</td>\n",
       "      <td>120</td>\n",
       "    </tr>\n",
       "    <tr>\n",
       "      <th>2</th>\n",
       "      <td>0</td>\n",
       "      <td>1</td>\n",
       "      <td>0</td>\n",
       "      <td>0</td>\n",
       "      <td>0</td>\n",
       "      <td>0</td>\n",
       "      <td>0</td>\n",
       "      <td>0</td>\n",
       "      <td>1</td>\n",
       "      <td>120</td>\n",
       "    </tr>\n",
       "    <tr>\n",
       "      <th>3</th>\n",
       "      <td>0</td>\n",
       "      <td>1</td>\n",
       "      <td>0</td>\n",
       "      <td>0</td>\n",
       "      <td>0</td>\n",
       "      <td>0</td>\n",
       "      <td>0</td>\n",
       "      <td>0</td>\n",
       "      <td>1</td>\n",
       "      <td>120</td>\n",
       "    </tr>\n",
       "    <tr>\n",
       "      <th>4</th>\n",
       "      <td>0</td>\n",
       "      <td>1</td>\n",
       "      <td>0</td>\n",
       "      <td>0</td>\n",
       "      <td>0</td>\n",
       "      <td>0</td>\n",
       "      <td>1</td>\n",
       "      <td>0</td>\n",
       "      <td>1</td>\n",
       "      <td>120</td>\n",
       "    </tr>\n",
       "    <tr>\n",
       "      <th>...</th>\n",
       "      <td>...</td>\n",
       "      <td>...</td>\n",
       "      <td>...</td>\n",
       "      <td>...</td>\n",
       "      <td>...</td>\n",
       "      <td>...</td>\n",
       "      <td>...</td>\n",
       "      <td>...</td>\n",
       "      <td>...</td>\n",
       "      <td>...</td>\n",
       "    </tr>\n",
       "    <tr>\n",
       "      <th>494</th>\n",
       "      <td>0</td>\n",
       "      <td>0</td>\n",
       "      <td>0</td>\n",
       "      <td>1</td>\n",
       "      <td>0</td>\n",
       "      <td>1</td>\n",
       "      <td>0</td>\n",
       "      <td>1</td>\n",
       "      <td>0</td>\n",
       "      <td>5</td>\n",
       "    </tr>\n",
       "    <tr>\n",
       "      <th>495</th>\n",
       "      <td>0</td>\n",
       "      <td>0</td>\n",
       "      <td>0</td>\n",
       "      <td>1</td>\n",
       "      <td>0</td>\n",
       "      <td>1</td>\n",
       "      <td>1</td>\n",
       "      <td>0</td>\n",
       "      <td>0</td>\n",
       "      <td>5</td>\n",
       "    </tr>\n",
       "    <tr>\n",
       "      <th>496</th>\n",
       "      <td>1</td>\n",
       "      <td>0</td>\n",
       "      <td>0</td>\n",
       "      <td>0</td>\n",
       "      <td>0</td>\n",
       "      <td>0</td>\n",
       "      <td>0</td>\n",
       "      <td>0</td>\n",
       "      <td>0</td>\n",
       "      <td>5</td>\n",
       "    </tr>\n",
       "    <tr>\n",
       "      <th>497</th>\n",
       "      <td>1</td>\n",
       "      <td>0</td>\n",
       "      <td>0</td>\n",
       "      <td>1</td>\n",
       "      <td>0</td>\n",
       "      <td>1</td>\n",
       "      <td>1</td>\n",
       "      <td>0</td>\n",
       "      <td>0</td>\n",
       "      <td>5</td>\n",
       "    </tr>\n",
       "    <tr>\n",
       "      <th>498</th>\n",
       "      <td>1</td>\n",
       "      <td>0</td>\n",
       "      <td>0</td>\n",
       "      <td>0</td>\n",
       "      <td>1</td>\n",
       "      <td>1</td>\n",
       "      <td>0</td>\n",
       "      <td>1</td>\n",
       "      <td>0</td>\n",
       "      <td>5</td>\n",
       "    </tr>\n",
       "  </tbody>\n",
       "</table>\n",
       "<p>499 rows × 10 columns</p>\n",
       "</div>"
      ],
      "text/plain": [
       "     country_group  operating_system  campaign  buying  crafting  \\\n",
       "0                0                 1         1       0         0   \n",
       "1                0                 1         1       0         0   \n",
       "2                0                 1         0       0         0   \n",
       "3                0                 1         0       0         0   \n",
       "4                0                 1         0       0         0   \n",
       "..             ...               ...       ...     ...       ...   \n",
       "494              0                 0         0       1         0   \n",
       "495              0                 0         0       1         0   \n",
       "496              1                 0         0       0         0   \n",
       "497              1                 0         0       1         0   \n",
       "498              1                 0         0       0         1   \n",
       "\n",
       "     woodchopping  fishing  farming  customisation  minutes_played  \n",
       "0               0        1        1              1             120  \n",
       "1               0        0        1              1             120  \n",
       "2               0        0        0              1             120  \n",
       "3               0        0        0              1             120  \n",
       "4               0        1        0              1             120  \n",
       "..            ...      ...      ...            ...             ...  \n",
       "494             1        0        1              0               5  \n",
       "495             1        1        0              0               5  \n",
       "496             0        0        0              0               5  \n",
       "497             1        1        0              0               5  \n",
       "498             1        0        1              0               5  \n",
       "\n",
       "[499 rows x 10 columns]"
      ]
     },
     "execution_count": 116,
     "metadata": {},
     "output_type": "execute_result"
    }
   ],
   "source": [
    "# I'll create a pd dataframe with manually assigned values for categories to include them in the matrix\n",
    "\n",
    "activities_temp = activities\n",
    "\n",
    "os_mapping = {'android': 0, 'ios': 1, 'anroid' : 0}\n",
    "country_mapping = {'us/gb/au/ca' : 0, 'others' : 1}\n",
    "campaign_mapping = {'free' : 0, 'paid' : 1}\n",
    "\n",
    "activities_temp['operating_system'] = activities_temp['operating_system'].map(os_mapping)\n",
    "activities_temp['country_group'] = activities_temp['country_group'].map(country_mapping)\n",
    "activities_temp['campaign'] = activities_temp['campaign'].map(campaign_mapping)\n",
    "\n",
    "activities_temp"
   ]
  },
  {
   "cell_type": "code",
   "execution_count": 117,
   "id": "fd15912b",
   "metadata": {},
   "outputs": [
    {
     "data": {
      "text/plain": [
       "<AxesSubplot:>"
      ]
     },
     "execution_count": 117,
     "metadata": {},
     "output_type": "execute_result"
    },
    {
     "data": {
      "image/png": "[encoded data removed]",
      "text/plain": [
       "<Figure size 432x288 with 2 Axes>"
      ]
     },
     "metadata": {
      "needs_background": "light"
     },
     "output_type": "display_data"
    }
   ],
   "source": [
    "# correlation matrix to determine high level relationships\n",
    "\n",
    "sns.heatmap(activities_temp.corr())"
   ]
  },
  {
   "cell_type": "code",
   "execution_count": 120,
   "id": "7ea5fe68",
   "metadata": {},
   "outputs": [
    {
     "data": {
      "text/plain": [
       "country_group      -0.567331\n",
       "operating_system    0.527541\n",
       "campaign            0.276766\n",
       "buying             -0.020629\n",
       "crafting            0.155223\n",
       "woodchopping       -0.367328\n",
       "fishing            -0.077948\n",
       "farming             0.256266\n",
       "customisation       0.618514\n",
       "minutes_played      1.000000\n",
       "Name: minutes_played, dtype: float64"
      ]
     },
     "execution_count": 120,
     "metadata": {},
     "output_type": "execute_result"
    }
   ],
   "source": [
    "# observing the correlation numbers we can see some key figures with high correlations \n",
    "# customisation, farming have reasonable positive correlations, while woodchopping has an interesting negative correlation\n",
    "# it's notable that woodchopping in the above graphic has a small but noticable negative correlation in the above graphic \n",
    "\n",
    "# country_group is a heavy predictor of many aspects of the game - in a more effective study I would perform this analysis\n",
    "# on a specific country_group - I'm restricted by sample at the moment \n",
    "\n",
    "# for the sake of experimentation/discussion I'll assume the same country/os for future discussion in this nb \n",
    "\n",
    "activities_temp.corr()['minutes_played']"
   ]
  },
  {
   "cell_type": "code",
   "execution_count": 144,
   "id": "ee67f598",
   "metadata": {},
   "outputs": [],
   "source": [
    "activities_new = activities.drop(['country_group', 'operating_system', 'campaign', \n",
    "                                  'buying', 'fishing'], axis = 1)\n",
    "\n",
    "X = activities_new.iloc[:, :-1].values\n",
    "y = activities_new.iloc[:, 4].values"
   ]
  },
  {
   "cell_type": "code",
   "execution_count": 160,
   "id": "b0417936",
   "metadata": {},
   "outputs": [
    {
     "data": {
      "text/html": [
       "<div>\n",
       "<style scoped>\n",
       "    .dataframe tbody tr th:only-of-type {\n",
       "        vertical-align: middle;\n",
       "    }\n",
       "\n",
       "    .dataframe tbody tr th {\n",
       "        vertical-align: top;\n",
       "    }\n",
       "\n",
       "    .dataframe thead th {\n",
       "        text-align: right;\n",
       "    }\n",
       "</style>\n",
       "<table border=\"1\" class=\"dataframe\">\n",
       "  <thead>\n",
       "    <tr style=\"text-align: right;\">\n",
       "      <th></th>\n",
       "      <th>crafting</th>\n",
       "      <th>woodchopping</th>\n",
       "      <th>farming</th>\n",
       "      <th>customisation</th>\n",
       "      <th>minutes_played</th>\n",
       "    </tr>\n",
       "  </thead>\n",
       "  <tbody>\n",
       "    <tr>\n",
       "      <th>0</th>\n",
       "      <td>0</td>\n",
       "      <td>0</td>\n",
       "      <td>1</td>\n",
       "      <td>1</td>\n",
       "      <td>120</td>\n",
       "    </tr>\n",
       "    <tr>\n",
       "      <th>1</th>\n",
       "      <td>0</td>\n",
       "      <td>0</td>\n",
       "      <td>1</td>\n",
       "      <td>1</td>\n",
       "      <td>120</td>\n",
       "    </tr>\n",
       "    <tr>\n",
       "      <th>2</th>\n",
       "      <td>0</td>\n",
       "      <td>0</td>\n",
       "      <td>0</td>\n",
       "      <td>1</td>\n",
       "      <td>120</td>\n",
       "    </tr>\n",
       "    <tr>\n",
       "      <th>3</th>\n",
       "      <td>0</td>\n",
       "      <td>0</td>\n",
       "      <td>0</td>\n",
       "      <td>1</td>\n",
       "      <td>120</td>\n",
       "    </tr>\n",
       "    <tr>\n",
       "      <th>4</th>\n",
       "      <td>0</td>\n",
       "      <td>0</td>\n",
       "      <td>0</td>\n",
       "      <td>1</td>\n",
       "      <td>120</td>\n",
       "    </tr>\n",
       "    <tr>\n",
       "      <th>...</th>\n",
       "      <td>...</td>\n",
       "      <td>...</td>\n",
       "      <td>...</td>\n",
       "      <td>...</td>\n",
       "      <td>...</td>\n",
       "    </tr>\n",
       "    <tr>\n",
       "      <th>494</th>\n",
       "      <td>0</td>\n",
       "      <td>1</td>\n",
       "      <td>1</td>\n",
       "      <td>0</td>\n",
       "      <td>5</td>\n",
       "    </tr>\n",
       "    <tr>\n",
       "      <th>495</th>\n",
       "      <td>0</td>\n",
       "      <td>1</td>\n",
       "      <td>0</td>\n",
       "      <td>0</td>\n",
       "      <td>5</td>\n",
       "    </tr>\n",
       "    <tr>\n",
       "      <th>496</th>\n",
       "      <td>0</td>\n",
       "      <td>0</td>\n",
       "      <td>0</td>\n",
       "      <td>0</td>\n",
       "      <td>5</td>\n",
       "    </tr>\n",
       "    <tr>\n",
       "      <th>497</th>\n",
       "      <td>0</td>\n",
       "      <td>1</td>\n",
       "      <td>0</td>\n",
       "      <td>0</td>\n",
       "      <td>5</td>\n",
       "    </tr>\n",
       "    <tr>\n",
       "      <th>498</th>\n",
       "      <td>1</td>\n",
       "      <td>1</td>\n",
       "      <td>1</td>\n",
       "      <td>0</td>\n",
       "      <td>5</td>\n",
       "    </tr>\n",
       "  </tbody>\n",
       "</table>\n",
       "<p>499 rows × 5 columns</p>\n",
       "</div>"
      ],
      "text/plain": [
       "     crafting  woodchopping  farming  customisation  minutes_played\n",
       "0           0             0        1              1             120\n",
       "1           0             0        1              1             120\n",
       "2           0             0        0              1             120\n",
       "3           0             0        0              1             120\n",
       "4           0             0        0              1             120\n",
       "..        ...           ...      ...            ...             ...\n",
       "494         0             1        1              0               5\n",
       "495         0             1        0              0               5\n",
       "496         0             0        0              0               5\n",
       "497         0             1        0              0               5\n",
       "498         1             1        1              0               5\n",
       "\n",
       "[499 rows x 5 columns]"
      ]
     },
     "execution_count": 160,
     "metadata": {},
     "output_type": "execute_result"
    }
   ],
   "source": [
    "activities_new"
   ]
  },
  {
   "cell_type": "code",
   "execution_count": 145,
   "id": "332523a5",
   "metadata": {},
   "outputs": [],
   "source": [
    "# this is unecessary as the categorical values aren't being used at the moment \n",
    "\n",
    "# encoding categorical data\n",
    "# we need numbers as opposed to categories to process the values\n",
    "    \n",
    "# for col in range(3):\n",
    "#     le = LabelEncoder()\n",
    "#     X[:, col] = le.fit_transform(X[:, col])"
   ]
  },
  {
   "cell_type": "code",
   "execution_count": 146,
   "id": "8a926557",
   "metadata": {},
   "outputs": [],
   "source": [
    "# splitting my data into testing and training data\n",
    "\n",
    "X_train, X_test, y_train, y_test = train_test_split(X, y, test_size = 0.2, random_state = 0)"
   ]
  },
  {
   "cell_type": "code",
   "execution_count": 147,
   "id": "163ead03",
   "metadata": {},
   "outputs": [
    {
     "data": {
      "text/plain": [
       "LinearRegression()"
      ]
     },
     "execution_count": 147,
     "metadata": {},
     "output_type": "execute_result"
    }
   ],
   "source": [
    "# fitting multiplle linear regression to the training set\n",
    "\n",
    "regressor = LinearRegression()\n",
    "regressor.fit(X_train, y_train) "
   ]
  },
  {
   "cell_type": "code",
   "execution_count": 148,
   "id": "bc51e925",
   "metadata": {},
   "outputs": [
    {
     "data": {
      "text/plain": [
       "array([77.39346582, 60.97009928, 68.63397299, 41.84565482, 49.50952853,\n",
       "       77.32505529, 41.84565482, 34.25019165, 93.74842183, 49.50952853,\n",
       "       93.74842183, 60.97009928, 41.84565482, 41.84565482, 77.32505529,\n",
       "       41.91406535, 41.84565482, 58.26902136, 84.988929  , 49.50952853,\n",
       "       77.32505529, 41.91406535, 93.74842183, 77.32505529, 50.60514765,\n",
       "       25.49069881, 86.08454812, 34.25019165, 84.988929  , 84.988929  ,\n",
       "       41.84565482, 86.08454812, 60.97009928, 86.08454812, 60.97009928,\n",
       "       41.84565482, 41.91406535, 41.84565482, 58.26902136, 93.74842183,\n",
       "       50.60514765, 84.988929  , 25.49069881, 84.988929  , 84.988929  ,\n",
       "       86.08454812, 77.32505529, 25.49069881, 41.84565482, 93.74842183,\n",
       "       49.50952853, 93.74842183, 41.84565482, 49.50952853, 77.39346582,\n",
       "       50.60514765, 41.84565482, 84.988929  , 84.988929  , 77.32505529,\n",
       "       77.32505529, 49.50952853, 41.84565482, 41.84565482, 34.25019165,\n",
       "       84.988929  , 84.988929  , 77.32505529, 86.08454812, 93.74842183,\n",
       "       77.32505529, 86.08454812, 50.60514765, 58.26902136, 86.08454812,\n",
       "       34.25019165, 68.63397299, 86.08454812, 25.49069881, 33.15457252,\n",
       "       41.91406535, 50.60514765, 49.50952853, 86.08454812, 50.60514765,\n",
       "       49.50952853, 41.84565482, 77.32505529, 58.26902136, 77.32505529,\n",
       "       93.74842183, 41.84565482, 34.25019165, 86.08454812, 93.74842183,\n",
       "       25.49069881, 86.08454812, 25.49069881, 77.32505529, 86.08454812])"
      ]
     },
     "execution_count": 148,
     "metadata": {},
     "output_type": "execute_result"
    }
   ],
   "source": [
    "# predicting test results\n",
    "\n",
    "y_pred = regressor.predict(X_test)\n",
    "y_pred"
   ]
  },
  {
   "cell_type": "code",
   "execution_count": 149,
   "id": "6ff49a34",
   "metadata": {},
   "outputs": [
    {
     "data": {
      "text/plain": [
       "<seaborn.axisgrid.FacetGrid at 0x1c299908430>"
      ]
     },
     "execution_count": 149,
     "metadata": {},
     "output_type": "execute_result"
    },
    {
     "data": {
      "image/png": "[encoded data removed]",
      "text/plain": [
       "<Figure size 360x360 with 1 Axes>"
      ]
     },
     "metadata": {
      "needs_background": "light"
     },
     "output_type": "display_data"
    }
   ],
   "source": [
    "# clarifying that the residuals follow a normal distribution for MLR\n",
    "\n",
    "residuals = y_test - y_pred\n",
    "\n",
    "sns.displot(residuals, bins = 15, kde = True)"
   ]
  },
  {
   "cell_type": "code",
   "execution_count": 152,
   "id": "a4071739",
   "metadata": {},
   "outputs": [
    {
     "data": {
      "text/plain": [
       "0.4851441355716859"
      ]
     },
     "execution_count": 152,
     "metadata": {},
     "output_type": "execute_result"
    }
   ],
   "source": [
    "# calculating r squared value\n",
    "# for the level of complexity within an MMO I feel that an R-Square of 0.65 is a reasonable score (0.65 achieved with os etc)\n",
    "# 0.48 with limited variables included \n",
    "\n",
    "# with some better data I may improve this score further\n",
    "\n",
    "r2_score(y_test, y_pred)"
   ]
  },
  {
   "cell_type": "code",
   "execution_count": 156,
   "id": "6a378089",
   "metadata": {},
   "outputs": [
    {
     "data": {
      "text/plain": [
       "17.427233360597153"
      ]
     },
     "execution_count": 156,
     "metadata": {},
     "output_type": "execute_result"
    }
   ],
   "source": [
    "# predictions 17 minutes off actual\n",
    "\n",
    "mean_absolute_error(y_test, y_pred)"
   ]
  },
  {
   "cell_type": "code",
   "execution_count": 157,
   "id": "40a35e42",
   "metadata": {},
   "outputs": [
    {
     "data": {
      "text/plain": [
       "484.0271190357297"
      ]
     },
     "execution_count": 157,
     "metadata": {},
     "output_type": "execute_result"
    }
   ],
   "source": [
    "mean_squared_error(y_test, y_pred)"
   ]
  },
  {
   "cell_type": "code",
   "execution_count": 153,
   "id": "516f6a86",
   "metadata": {},
   "outputs": [
    {
     "data": {
      "text/html": [
       "<div>\n",
       "<style scoped>\n",
       "    .dataframe tbody tr th:only-of-type {\n",
       "        vertical-align: middle;\n",
       "    }\n",
       "\n",
       "    .dataframe tbody tr th {\n",
       "        vertical-align: top;\n",
       "    }\n",
       "\n",
       "    .dataframe thead th {\n",
       "        text-align: right;\n",
       "    }\n",
       "</style>\n",
       "<table border=\"1\" class=\"dataframe\">\n",
       "  <thead>\n",
       "    <tr style=\"text-align: right;\">\n",
       "      <th></th>\n",
       "      <th>actual_value</th>\n",
       "      <th>predicted_value</th>\n",
       "      <th>difference</th>\n",
       "    </tr>\n",
       "  </thead>\n",
       "  <tbody>\n",
       "    <tr>\n",
       "      <th>0</th>\n",
       "      <td>100</td>\n",
       "      <td>77.393466</td>\n",
       "      <td>22.606534</td>\n",
       "    </tr>\n",
       "    <tr>\n",
       "      <th>1</th>\n",
       "      <td>62</td>\n",
       "      <td>60.970099</td>\n",
       "      <td>1.029901</td>\n",
       "    </tr>\n",
       "    <tr>\n",
       "      <th>2</th>\n",
       "      <td>56</td>\n",
       "      <td>68.633973</td>\n",
       "      <td>-12.633973</td>\n",
       "    </tr>\n",
       "    <tr>\n",
       "      <th>3</th>\n",
       "      <td>17</td>\n",
       "      <td>41.845655</td>\n",
       "      <td>-24.845655</td>\n",
       "    </tr>\n",
       "    <tr>\n",
       "      <th>4</th>\n",
       "      <td>10</td>\n",
       "      <td>49.509529</td>\n",
       "      <td>-39.509529</td>\n",
       "    </tr>\n",
       "    <tr>\n",
       "      <th>5</th>\n",
       "      <td>117</td>\n",
       "      <td>77.325055</td>\n",
       "      <td>39.674945</td>\n",
       "    </tr>\n",
       "    <tr>\n",
       "      <th>6</th>\n",
       "      <td>48</td>\n",
       "      <td>41.845655</td>\n",
       "      <td>6.154345</td>\n",
       "    </tr>\n",
       "    <tr>\n",
       "      <th>7</th>\n",
       "      <td>6</td>\n",
       "      <td>34.250192</td>\n",
       "      <td>-28.250192</td>\n",
       "    </tr>\n",
       "    <tr>\n",
       "      <th>8</th>\n",
       "      <td>82</td>\n",
       "      <td>93.748422</td>\n",
       "      <td>-11.748422</td>\n",
       "    </tr>\n",
       "    <tr>\n",
       "      <th>9</th>\n",
       "      <td>84</td>\n",
       "      <td>49.509529</td>\n",
       "      <td>34.490471</td>\n",
       "    </tr>\n",
       "  </tbody>\n",
       "</table>\n",
       "</div>"
      ],
      "text/plain": [
       "   actual_value  predicted_value  difference\n",
       "0           100        77.393466   22.606534\n",
       "1            62        60.970099    1.029901\n",
       "2            56        68.633973  -12.633973\n",
       "3            17        41.845655  -24.845655\n",
       "4            10        49.509529  -39.509529\n",
       "5           117        77.325055   39.674945\n",
       "6            48        41.845655    6.154345\n",
       "7             6        34.250192  -28.250192\n",
       "8            82        93.748422  -11.748422\n",
       "9            84        49.509529   34.490471"
      ]
     },
     "execution_count": 153,
     "metadata": {},
     "output_type": "execute_result"
    }
   ],
   "source": [
    "pred_y_df = pd.DataFrame({'actual_value' : y_test, 'predicted_value' : y_pred, 'difference' : y_test - y_pred})\n",
    "pred_y_df[0:10]"
   ]
  },
  {
   "cell_type": "code",
   "execution_count": 158,
   "id": "f1a01cf3",
   "metadata": {},
   "outputs": [
    {
     "data": {
      "text/plain": [
       "array([  7.66387371, -16.35495601,   8.75949283,  35.47940047])"
      ]
     },
     "execution_count": 158,
     "metadata": {},
     "output_type": "execute_result"
    }
   ],
   "source": [
    "# calculate coefficient  \n",
    "# based on the cells we can see that e.g. 35.4 = somebody customises = more likely to have higher minutes played\n",
    "regressor.coef_"
   ]
  },
  {
   "cell_type": "code",
   "execution_count": 159,
   "id": "3ef4968f",
   "metadata": {},
   "outputs": [
    {
     "data": {
      "text/plain": [
       "41.845654819985235"
      ]
     },
     "execution_count": 159,
     "metadata": {},
     "output_type": "execute_result"
    }
   ],
   "source": [
    "# calculate intercept\n",
    "\n",
    "regressor.intercept_"
   ]
  },
  {
   "cell_type": "markdown",
   "id": "8c4eb0c7",
   "metadata": {},
   "source": [
    "# Conclusions\n",
    "\n",
    "Overall, our R2 is still worth discussing dispite the low nature - as discussed previously getting a better dataset and clarifying some of the noise surrounding OS and country should let us delve into better design related questions \n",
    "\n",
    "Some actions which could arise from this form of exploration:\n",
    "\n",
    "1) Customisation seems to drive minutes played better than most areas, can we drive more players toward customisation\n",
    "    b (data team) ) Are players who customise tied to any other metrics (possibly social systems)\n",
    "\n",
    "2) Woodcutting has a negative relationship with minutes played - what within the gameplay drives this? \n",
    "    b) It has a negative correlation with customisation - are the customisation and woodcutting areas too far apart in \n",
    "       game? \n",
    "    c) Is there a lack of efficiency/progression tied to woodcutting for late game players? i.e. this data is for mature          players, are the ones who find themselves chopping wood less 'efficient'/lacking direction - can this be taught? \n",
    "    \n",
    "3) Crafting was introduced as a retention mechanic for high level players, should it have a bigger impact on minutes        played?\n",
    "    b) The crafting system involves many automated systems for players (daily machines etc) is there a conflict between the retention KPI and minutes played KPI? "
   ]
  }
 ],
 "metadata": {
  "kernelspec": {
   "display_name": "Python 3 (ipykernel)",
   "language": "python",
   "name": "python3"
  },
  "language_info": {
   "codemirror_mode": {
    "name": "ipython",
    "version": 3
   },
   "file_extension": ".py",
   "mimetype": "text/x-python",
   "name": "python",
   "nbconvert_exporter": "python",
   "pygments_lexer": "ipython3",
   "version": "3.9.12"
  }
 },
 "nbformat": 4,
 "nbformat_minor": 5
}
